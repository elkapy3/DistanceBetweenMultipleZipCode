{
 "cells": [
  {
   "cell_type": "code",
   "execution_count": 1,
   "id": "b7429328-98fe-4e64-88da-5d89df923909",
   "metadata": {},
   "outputs": [],
   "source": [
    "import pandas as pd\n",
    "import numpy as np\n",
    "import haversine as hs\n",
    "import folium"
   ]
  },
  {
   "cell_type": "code",
   "execution_count": 2,
   "id": "e05fbad0-e064-43ec-b354-a23ff6b1fa8e",
   "metadata": {},
   "outputs": [],
   "source": [
    "import pandas as pd \n",
    "from pandas import ExcelWriter\n",
    "from pandas import ExcelFile "
   ]
  },
  {
   "cell_type": "code",
   "execution_count": 3,
   "id": "5b8c215f-2204-4eec-85d8-f94ccb8893da",
   "metadata": {},
   "outputs": [
    {
     "data": {
      "text/html": [
       "<div>\n",
       "<style scoped>\n",
       "    .dataframe tbody tr th:only-of-type {\n",
       "        vertical-align: middle;\n",
       "    }\n",
       "\n",
       "    .dataframe tbody tr th {\n",
       "        vertical-align: top;\n",
       "    }\n",
       "\n",
       "    .dataframe thead th {\n",
       "        text-align: right;\n",
       "    }\n",
       "</style>\n",
       "<table border=\"1\" class=\"dataframe\">\n",
       "  <thead>\n",
       "    <tr style=\"text-align: right;\">\n",
       "      <th></th>\n",
       "      <th>CityState1</th>\n",
       "      <th>LAT</th>\n",
       "      <th>LONG</th>\n",
       "    </tr>\n",
       "  </thead>\n",
       "  <tbody>\n",
       "    <tr>\n",
       "      <th>0</th>\n",
       "      <td>Sunset Beach, CA</td>\n",
       "      <td>33.716666</td>\n",
       "      <td>-118.076906</td>\n",
       "    </tr>\n",
       "    <tr>\n",
       "      <th>1</th>\n",
       "      <td>Verdugo City, CA</td>\n",
       "      <td>34.211452</td>\n",
       "      <td>-118.241036</td>\n",
       "    </tr>\n",
       "    <tr>\n",
       "      <th>2</th>\n",
       "      <td>Jacumba, CA</td>\n",
       "      <td>32.648992</td>\n",
       "      <td>-116.152565</td>\n",
       "    </tr>\n",
       "    <tr>\n",
       "      <th>3</th>\n",
       "      <td>Potrero, CA</td>\n",
       "      <td>32.626231</td>\n",
       "      <td>-116.610020</td>\n",
       "    </tr>\n",
       "    <tr>\n",
       "      <th>4</th>\n",
       "      <td>Palomar Mountain, CA</td>\n",
       "      <td>33.346808</td>\n",
       "      <td>-116.853215</td>\n",
       "    </tr>\n",
       "  </tbody>\n",
       "</table>\n",
       "</div>"
      ],
      "text/plain": [
       "             CityState1        LAT        LONG\n",
       "0      Sunset Beach, CA  33.716666 -118.076906\n",
       "1      Verdugo City, CA  34.211452 -118.241036\n",
       "2           Jacumba, CA  32.648992 -116.152565\n",
       "3           Potrero, CA  32.626231 -116.610020\n",
       "4  Palomar Mountain, CA  33.346808 -116.853215"
      ]
     },
     "execution_count": 3,
     "metadata": {},
     "output_type": "execute_result"
    }
   ],
   "source": [
    "data = pd.read_excel('LatLong1.xlsx')\n",
    "data.head()"
   ]
  },
  {
   "cell_type": "code",
   "execution_count": 4,
   "id": "13bd8273-11a2-4f71-aedf-81728ad62137",
   "metadata": {},
   "outputs": [],
   "source": [
    "LatLon1= pd.read_excel(\"LatLong1.xlsx\")\n",
    "LatLon2= pd.read_excel(\"LatLong2.xlsx\")"
   ]
  },
  {
   "cell_type": "code",
   "execution_count": 5,
   "id": "bec72906-698f-4973-b6b2-ca68012c1284",
   "metadata": {},
   "outputs": [],
   "source": [
    "# concatenating lat and long to create a consolidated location as accepted by havesine function\n",
    "\n",
    "LatLon1['coor']= list(zip(LatLon1.LAT, LatLon1.LONG))\n",
    "LatLon2['coor']= list(zip(LatLon2.LAT, LatLon2.LONG))"
   ]
  },
  {
   "cell_type": "code",
   "execution_count": 6,
   "id": "8698cc29-36d1-44eb-b483-307935f636c0",
   "metadata": {},
   "outputs": [
    {
     "data": {
      "text/html": [
       "<div>\n",
       "<style scoped>\n",
       "    .dataframe tbody tr th:only-of-type {\n",
       "        vertical-align: middle;\n",
       "    }\n",
       "\n",
       "    .dataframe tbody tr th {\n",
       "        vertical-align: top;\n",
       "    }\n",
       "\n",
       "    .dataframe thead th {\n",
       "        text-align: right;\n",
       "    }\n",
       "</style>\n",
       "<table border=\"1\" class=\"dataframe\">\n",
       "  <thead>\n",
       "    <tr style=\"text-align: right;\">\n",
       "      <th></th>\n",
       "      <th>CityState1</th>\n",
       "      <th>LAT</th>\n",
       "      <th>LONG</th>\n",
       "      <th>coor</th>\n",
       "    </tr>\n",
       "  </thead>\n",
       "  <tbody>\n",
       "    <tr>\n",
       "      <th>0</th>\n",
       "      <td>Sunset Beach, CA</td>\n",
       "      <td>33.716666</td>\n",
       "      <td>-118.076906</td>\n",
       "      <td>(33.716666, -118.076906)</td>\n",
       "    </tr>\n",
       "    <tr>\n",
       "      <th>1</th>\n",
       "      <td>Verdugo City, CA</td>\n",
       "      <td>34.211452</td>\n",
       "      <td>-118.241036</td>\n",
       "      <td>(34.211452, -118.241036)</td>\n",
       "    </tr>\n",
       "    <tr>\n",
       "      <th>2</th>\n",
       "      <td>Jacumba, CA</td>\n",
       "      <td>32.648992</td>\n",
       "      <td>-116.152565</td>\n",
       "      <td>(32.648992, -116.152565)</td>\n",
       "    </tr>\n",
       "    <tr>\n",
       "      <th>3</th>\n",
       "      <td>Potrero, CA</td>\n",
       "      <td>32.626231</td>\n",
       "      <td>-116.610020</td>\n",
       "      <td>(32.626231, -116.61002)</td>\n",
       "    </tr>\n",
       "    <tr>\n",
       "      <th>4</th>\n",
       "      <td>Palomar Mountain, CA</td>\n",
       "      <td>33.346808</td>\n",
       "      <td>-116.853215</td>\n",
       "      <td>(33.346808, -116.853215)</td>\n",
       "    </tr>\n",
       "  </tbody>\n",
       "</table>\n",
       "</div>"
      ],
      "text/plain": [
       "             CityState1        LAT        LONG                      coor\n",
       "0      Sunset Beach, CA  33.716666 -118.076906  (33.716666, -118.076906)\n",
       "1      Verdugo City, CA  34.211452 -118.241036  (34.211452, -118.241036)\n",
       "2           Jacumba, CA  32.648992 -116.152565  (32.648992, -116.152565)\n",
       "3           Potrero, CA  32.626231 -116.610020   (32.626231, -116.61002)\n",
       "4  Palomar Mountain, CA  33.346808 -116.853215  (33.346808, -116.853215)"
      ]
     },
     "execution_count": 6,
     "metadata": {},
     "output_type": "execute_result"
    }
   ],
   "source": [
    "LatLon1.head()"
   ]
  },
  {
   "cell_type": "code",
   "execution_count": 7,
   "id": "13f1c36d-b118-4316-898f-d67f707403d2",
   "metadata": {},
   "outputs": [],
   "source": [
    "# defining a  function to calculate distance between two locations \n",
    "# loc1= location of an existing Zip1\n",
    "# loc2= location of an existing zip2\n",
    "\n",
    "def distance_from(loc1,loc2): \n",
    "    dist=hs.haversine(loc1,loc2)\n",
    "    return round(dist,2)"
   ]
  },
  {
   "cell_type": "code",
   "execution_count": null,
   "id": "8c7379f7-4206-4c04-bc3b-6c0833b68108",
   "metadata": {},
   "outputs": [
    {
     "name": "stderr",
     "output_type": "stream",
     "text": [
      "/tmp/ipykernel_951003/1913505894.py:3: PerformanceWarning: DataFrame is highly fragmented.  This is usually the result of calling `frame.insert` many times, which has poor performance.  Consider joining all columns at once using pd.concat(axis=1) instead.  To get a de-fragmented frame, use `newframe = frame.copy()`\n",
      "  LatLon1[row.CityState2]=LatLon1['coor'].apply(lambda x: distance_from(row.coor,x))\n"
     ]
    }
   ],
   "source": [
    "# running a loop which will parse customers location one by one to distance from function \n",
    "for _,row in LatLon2.iterrows():\n",
    "    LatLon1[row.CityState2]=LatLon1['coor'].apply(lambda x: distance_from(row.coor,x))"
   ]
  },
  {
   "cell_type": "code",
   "execution_count": null,
   "id": "87d23407-4db0-4fcd-b95f-bf32a9a8e54e",
   "metadata": {},
   "outputs": [],
   "source": [
    "LatLon1.head()"
   ]
  },
  {
   "cell_type": "code",
   "execution_count": 28,
   "id": "cb683563-098a-4928-8440-fda1c9279460",
   "metadata": {},
   "outputs": [
    {
     "ename": "NameError",
     "evalue": "name 'df' is not defined",
     "output_type": "error",
     "traceback": [
      "\u001b[0;31m---------------------------------------------------------------------------\u001b[0m",
      "\u001b[0;31mNameError\u001b[0m                                 Traceback (most recent call last)",
      "\u001b[0;32m/tmp/ipykernel_821249/302270800.py\u001b[0m in \u001b[0;36m<module>\u001b[0;34m\u001b[0m\n\u001b[0;32m----> 1\u001b[0;31m \u001b[0mdf\u001b[0m\u001b[0;34m[\u001b[0m\u001b[0;34m\"LatLon1\"\u001b[0m\u001b[0;34m]\u001b[0m\u001b[0;34m=\u001b[0m \u001b[0mLatLon1\u001b[0m\u001b[0;34m\u001b[0m\u001b[0;34m\u001b[0m\u001b[0m\n\u001b[0m",
      "\u001b[0;31mNameError\u001b[0m: name 'df' is not defined"
     ]
    }
   ],
   "source": [
    "df[\"LatLon1\"]= LatLon1"
   ]
  },
  {
   "cell_type": "code",
   "execution_count": 29,
   "id": "931330c9-ca3f-4d2d-b7b5-e491b4ed93af",
   "metadata": {},
   "outputs": [],
   "source": [
    "LatLon1.to_csv(\"LatLon1.csv\")"
   ]
  },
  {
   "cell_type": "code",
   "execution_count": null,
   "id": "74015cfb-d245-46e5-98ac-b5b6c7a05d65",
   "metadata": {},
   "outputs": [],
   "source": []
  }
 ],
 "metadata": {
  "kernelspec": {
   "display_name": "Python [conda env:azure-cli]",
   "language": "python",
   "name": "conda-env-azure-cli-py"
  },
  "language_info": {
   "codemirror_mode": {
    "name": "ipython",
    "version": 3
   },
   "file_extension": ".py",
   "mimetype": "text/x-python",
   "name": "python",
   "nbconvert_exporter": "python",
   "pygments_lexer": "ipython3",
   "version": "3.8.12"
  }
 },
 "nbformat": 4,
 "nbformat_minor": 5
}
